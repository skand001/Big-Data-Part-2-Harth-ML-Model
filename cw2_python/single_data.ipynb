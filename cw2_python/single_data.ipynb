{
 "cells": [
  {
   "cell_type": "code",
   "execution_count": 1,
   "metadata": {
    "notebookRunGroups": {
     "groupValue": ""
    }
   },
   "outputs": [],
   "source": [
    "import pandas as pd"
   ]
  },
  {
   "cell_type": "code",
   "execution_count": 2,
   "metadata": {},
   "outputs": [],
   "source": [
    "data = pd.read_csv('/mnt/data2/sandorkanda_idoru/BDA/harth/data/S012.csv') "
   ]
  },
  {
   "cell_type": "code",
   "execution_count": 8,
   "metadata": {},
   "outputs": [
    {
     "data": {
      "text/html": [
       "<div>\n",
       "<style scoped>\n",
       "    .dataframe tbody tr th:only-of-type {\n",
       "        vertical-align: middle;\n",
       "    }\n",
       "\n",
       "    .dataframe tbody tr th {\n",
       "        vertical-align: top;\n",
       "    }\n",
       "\n",
       "    .dataframe thead th {\n",
       "        text-align: right;\n",
       "    }\n",
       "</style>\n",
       "<table border=\"1\" class=\"dataframe\">\n",
       "  <thead>\n",
       "    <tr style=\"text-align: right;\">\n",
       "      <th></th>\n",
       "      <th>Duration (mm:ss)</th>\n",
       "      <th>Percentage</th>\n",
       "    </tr>\n",
       "    <tr>\n",
       "      <th>Label</th>\n",
       "      <th></th>\n",
       "      <th></th>\n",
       "    </tr>\n",
       "  </thead>\n",
       "  <tbody>\n",
       "    <tr>\n",
       "      <th>walking</th>\n",
       "      <td>116:42</td>\n",
       "      <td>22.96</td>\n",
       "    </tr>\n",
       "    <tr>\n",
       "      <th>running</th>\n",
       "      <td>01:46</td>\n",
       "      <td>0.35</td>\n",
       "    </tr>\n",
       "    <tr>\n",
       "      <th>shuffling</th>\n",
       "      <td>124:11</td>\n",
       "      <td>24.43</td>\n",
       "    </tr>\n",
       "    <tr>\n",
       "      <th>stairs (ascending)</th>\n",
       "      <td>04:57</td>\n",
       "      <td>0.98</td>\n",
       "    </tr>\n",
       "    <tr>\n",
       "      <th>stairs (descending)</th>\n",
       "      <td>01:27</td>\n",
       "      <td>0.29</td>\n",
       "    </tr>\n",
       "    <tr>\n",
       "      <th>standing</th>\n",
       "      <td>124:10</td>\n",
       "      <td>24.43</td>\n",
       "    </tr>\n",
       "    <tr>\n",
       "      <th>sitting</th>\n",
       "      <td>128:39</td>\n",
       "      <td>25.31</td>\n",
       "    </tr>\n",
       "    <tr>\n",
       "      <th>lying</th>\n",
       "      <td>06:25</td>\n",
       "      <td>1.26</td>\n",
       "    </tr>\n",
       "  </tbody>\n",
       "</table>\n",
       "</div>"
      ],
      "text/plain": [
       "                    Duration (mm:ss)  Percentage\n",
       "Label                                           \n",
       "walking                       116:42       22.96\n",
       "running                        01:46        0.35\n",
       "shuffling                     124:11       24.43\n",
       "stairs (ascending)             04:57        0.98\n",
       "stairs (descending)            01:27        0.29\n",
       "standing                      124:10       24.43\n",
       "sitting                       128:39       25.31\n",
       "lying                          06:25        1.26"
      ]
     },
     "execution_count": 8,
     "metadata": {},
     "output_type": "execute_result"
    }
   ],
   "source": [
    "# 1. Preprocess the timestamp\n",
    "data['timestamp'] = pd.to_datetime(data['timestamp'], format='%Y-%m-%d %H:%M:%S.%f')\n",
    "data = data.sort_values('timestamp')\n",
    "\n",
    "# 2. Group the data by label\n",
    "grouped_data = data.groupby('label')\n",
    "\n",
    "# 3. Calculate the duration for each label\n",
    "label_durations = {}\n",
    "for label, group in grouped_data:\n",
    "    min_timestamp = group['timestamp'].min()\n",
    "    max_timestamp = group['timestamp'].max()\n",
    "    duration = (max_timestamp - min_timestamp).total_seconds()\n",
    "    label_durations[label] = duration\n",
    "\n",
    "# 4. Summarize the results\n",
    "total_duration = sum(label_durations.values())\n",
    "summary_data = []\n",
    "for label, duration in label_durations.items():\n",
    "    minutes, seconds = divmod(duration, 60)\n",
    "    duration_str = f\"{int(minutes):02d}:{int(seconds):02d}\"\n",
    "    percentage = round((duration / total_duration) * 100, 2)\n",
    "    \n",
    "    # Rename the labels\n",
    "    label_names = {\n",
    "        1: 'walking',\n",
    "        2: 'running',\n",
    "        3: 'shuffling',\n",
    "        4: 'stairs (ascending)',\n",
    "        5: 'stairs (descending)',\n",
    "        6: 'standing',\n",
    "        7: 'sitting',\n",
    "        8: 'lying'\n",
    "    }\n",
    "    label_name = label_names.get(label, 'Unknown')\n",
    "    \n",
    "    summary_data.append({'Label': label_name, 'Duration (mm:ss)': duration_str, 'Percentage': percentage})\n",
    "\n",
    "summary_df = pd.DataFrame(summary_data)\n",
    "summary_df = summary_df.set_index('Label')\n",
    "\n",
    "summary_df"
   ]
  }
 ],
 "metadata": {
  "kernelspec": {
   "display_name": "gpu",
   "language": "python",
   "name": "python3"
  },
  "language_info": {
   "codemirror_mode": {
    "name": "ipython",
    "version": 3
   },
   "file_extension": ".py",
   "mimetype": "text/x-python",
   "name": "python",
   "nbconvert_exporter": "python",
   "pygments_lexer": "ipython3",
   "version": "3.9.16"
  }
 },
 "nbformat": 4,
 "nbformat_minor": 2
}
